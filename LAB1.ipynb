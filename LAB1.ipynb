{
  "nbformat": 4,
  "nbformat_minor": 0,
  "metadata": {
    "colab": {
      "provenance": []
    },
    "kernelspec": {
      "name": "python3",
      "display_name": "Python 3"
    },
    "language_info": {
      "name": "python"
    }
  },
  "cells": [
    {
      "cell_type": "code",
      "execution_count": 4,
      "metadata": {
        "colab": {
          "base_uri": "https://localhost:8080/"
        },
        "id": "l1jmF8bxTQce",
        "outputId": "dfa6762f-81d6-4a7e-d745-a28c6f12f771"
      },
      "outputs": [
        {
          "output_type": "stream",
          "name": "stdout",
          "text": [
            "<class 'pandas.core.frame.DataFrame'>\n",
            "RangeIndex: 545 entries, 0 to 544\n",
            "Data columns (total 13 columns):\n",
            " #   Column            Non-Null Count  Dtype \n",
            "---  ------            --------------  ----- \n",
            " 0   price             545 non-null    int64 \n",
            " 1   area              545 non-null    int64 \n",
            " 2   bedrooms          545 non-null    int64 \n",
            " 3   bathrooms         545 non-null    int64 \n",
            " 4   stories           545 non-null    int64 \n",
            " 5   mainroad          545 non-null    object\n",
            " 6   guestroom         545 non-null    object\n",
            " 7   basement          545 non-null    object\n",
            " 8   hotwaterheating   545 non-null    object\n",
            " 9   airconditioning   545 non-null    object\n",
            " 10  parking           545 non-null    int64 \n",
            " 11  prefarea          545 non-null    object\n",
            " 12  furnishingstatus  545 non-null    object\n",
            "dtypes: int64(6), object(7)\n",
            "memory usage: 55.5+ KB\n"
          ]
        }
      ],
      "source": [
        "import pandas as pd\n",
        "df=pd.read_csv(\"/content/Housing.csv\")\n",
        "df.info()"
      ]
    },
    {
      "cell_type": "code",
      "source": [
        "import pandas as pd\n",
        "import numpy as np\n",
        "from sklearn.preprocessing import MinMaxScaler, StandardScaler\n",
        "\n",
        "# Load the datasets\n",
        "adult_df = pd.read_csv('/content/adult.csv.zip')\n",
        "diabetes_df = pd.read_csv('/content/Dataset of Diabetes .csv')\n",
        "\n",
        "# Function to handle missing values\n",
        "def handle_missing_values(df):\n",
        "    df = df.fillna(df.median(numeric_only=True))  # Fill numeric NaNs with median\n",
        "    df = df.fillna(df.mode().iloc[0])  # Fill categorical NaNs with mode\n",
        "    return df\n",
        "\n",
        "# Function to handle categorical data\n",
        "def encode_categorical(df):\n",
        "    df = pd.get_dummies(df, drop_first=True)  # One-hot encoding\n",
        "    return df\n",
        "\n",
        "# Function to handle outliers using IQR method\n",
        "def remove_outliers(df):\n",
        "    numeric_cols = df.select_dtypes(include=[np.number]).columns\n",
        "    for col in numeric_cols:\n",
        "        Q1 = df[col].quantile(0.25)\n",
        "        Q3 = df[col].quantile(0.75)\n",
        "        IQR = Q3 - Q1\n",
        "        lower_bound = Q1 - 1.5 * IQR\n",
        "        upper_bound = Q3 + 1.5 * IQR\n",
        "        df[col] = np.where((df[col] < lower_bound) | (df[col] > upper_bound), np.nan, df[col])\n",
        "    df = handle_missing_values(df)  # Refill outlier values\n",
        "    return df\n",
        "\n",
        "# Function to apply normalization and standardization\n",
        "def apply_scaling(df):\n",
        "    scaler_minmax = MinMaxScaler()\n",
        "    scaler_standard = StandardScaler()\n",
        "    numeric_cols = df.select_dtypes(include=[np.number]).columns\n",
        "\n",
        "    df[numeric_cols] = scaler_minmax.fit_transform(df[numeric_cols])  # Min-Max Scaling\n",
        "    df[numeric_cols] = scaler_standard.fit_transform(df[numeric_cols])  # Standardization\n",
        "\n",
        "    return df\n",
        "\n",
        "# Apply preprocessing to both datasets\n",
        "adult_df = handle_missing_values(adult_df)\n",
        "adult_df = encode_categorical(adult_df)\n",
        "adult_df = remove_outliers(adult_df)\n",
        "adult_df = apply_scaling(adult_df)\n",
        "\n",
        "diabetes_df = handle_missing_values(diabetes_df)\n",
        "diabetes_df = encode_categorical(diabetes_df)\n",
        "diabetes_df = remove_outliers(diabetes_df)\n",
        "diabetes_df = apply_scaling(diabetes_df)\n",
        "\n",
        "# Create the directory to save the preprocessed datasets\n",
        "!mkdir -p /mnt/data\n",
        "\n",
        "# Save the preprocessed datasets\n",
        "adult_df.to_csv('/mnt/data/adult_preprocessed.csv', index=False)\n",
        "diabetes_df.to_csv('/mnt/data/diabetes_preprocessed.csv', index=False)\n",
        "\n",
        "print(\"Preprocessing completed. Processed files saved as 'adult_preprocessed.csv' and 'diabetes_preprocessed.csv'\")\n"
      ],
      "metadata": {
        "colab": {
          "base_uri": "https://localhost:8080/"
        },
        "id": "zGB5FfD2dyrx",
        "outputId": "fcccc384-f335-43fc-fcfe-83936ce4878e"
      },
      "execution_count": 8,
      "outputs": [
        {
          "output_type": "stream",
          "name": "stdout",
          "text": [
            "Preprocessing completed. Processed files saved as 'adult_preprocessed.csv' and 'diabetes_preprocessed.csv'\n"
          ]
        }
      ]
    }
  ]
}