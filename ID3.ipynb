{
  "nbformat": 4,
  "nbformat_minor": 0,
  "metadata": {
    "colab": {
      "provenance": []
    },
    "kernelspec": {
      "name": "python3",
      "display_name": "Python 3"
    },
    "language_info": {
      "name": "python"
    }
  },
  "cells": [
    {
      "cell_type": "code",
      "source": [
        "import pandas as pd\n",
        "import numpy as np\n",
        "import math\n",
        "from graphviz import Digraph\n",
        "\n",
        "def calculate_entropy(data, target_column):\n",
        "    \"\"\"Calculates the entropy of a dataset.\"\"\"\n",
        "    total_samples = len(data)\n",
        "    class_counts = data[target_column].value_counts()\n",
        "    entropy = 0\n",
        "    for count in class_counts:\n",
        "        probability = count / total_samples\n",
        "        entropy -= probability * math.log2(probability)\n",
        "    return entropy\n",
        "\n",
        "def calculate_information_gain(data, feature, target_column):\n",
        "    \"\"\"Calculates the information gain of a feature.\"\"\"\n",
        "    total_samples = len(data)\n",
        "    weighted_entropy = 0\n",
        "    for value in data[feature].unique():\n",
        "        subset = data[data[feature] == value]\n",
        "        subset_entropy = calculate_entropy(subset, target_column)\n",
        "        weighted_entropy += (len(subset) / total_samples) * subset_entropy\n",
        "    return calculate_entropy(data, target_column) - weighted_entropy\n",
        "\n",
        "\n",
        "def build_tree(data, target_column, features, parent_node_class=None):\n",
        "    # Base cases\n",
        "    if len(data[target_column].unique()) <= 1:\n",
        "        return data[target_column].unique()[0]\n",
        "    if len(features) == 0:\n",
        "        return parent_node_class\n",
        "\n",
        "    parent_node_class = data[target_column].mode()[0]  # Set mode of the target feature as parent node class\n",
        "\n",
        "    # Find the best feature to split on\n",
        "    best_feature = max(features, key=lambda feature: calculate_information_gain(data, feature, target_column))\n",
        "    tree = {best_feature: {}}\n",
        "    features.remove(best_feature) #Remove the feature that has been used already\n",
        "\n",
        "    # Recursively build the tree\n",
        "    for value in data[best_feature].unique():\n",
        "        subset = data[data[best_feature] == value]\n",
        "        subtree = build_tree(subset, target_column, features.copy(), parent_node_class) #Create subtree recursively with current subset of data\n",
        "        tree[best_feature][value] = subtree\n",
        "\n",
        "    return tree\n",
        "\n",
        "\n",
        "def visualize_tree(tree, dot=None, node_name='Root'):\n",
        "    if not dot:\n",
        "        dot = Digraph(comment='Decision Tree')\n",
        "\n",
        "    if isinstance(tree, dict):\n",
        "        feature = list(tree.keys())[0]\n",
        "        dot.node(node_name, label=feature)\n",
        "\n",
        "        for value, subtree in tree[feature].items():\n",
        "            child_node_name = node_name + \"_\" + str(value)\n",
        "            dot.edge(node_name, child_node_name, label=str(value))\n",
        "            visualize_tree(subtree, dot, child_node_name)\n",
        "\n",
        "    else:\n",
        "        dot.node(node_name, label=str(tree))  # Leaf node\n",
        "\n",
        "    return dot\n",
        "\n",
        "# Sample data (Replace with your actual data)\n",
        "data = {'Outlook': ['Sunny', 'Sunny', 'Overcast', 'Rainy', 'Rainy', 'Rainy', 'Overcast', 'Sunny', 'Sunny', 'Rainy', 'Sunny', 'Overcast', 'Overcast', 'Rainy'],\n",
        "        'Temperature': ['Hot', 'Hot', 'Hot', 'Mild', 'Cool', 'Cool', 'Cool', 'Mild', 'Cool', 'Mild', 'Mild', 'Mild', 'Hot', 'Mild'],\n",
        "        'Humidity': ['High', 'High', 'High', 'High', 'Normal', 'Normal', 'Normal', 'High', 'Normal', 'Normal', 'Normal', 'High', 'Normal', 'High'],\n",
        "        'Wind': ['Weak', 'Strong', 'Weak', 'Weak', 'Weak', 'Strong', 'Strong', 'Weak', 'Weak', 'Weak', 'Strong', 'Strong', 'Weak', 'Strong'],\n",
        "        'PlayTennis': ['No', 'No', 'Yes', 'Yes', 'Yes', 'No', 'Yes', 'No', 'Yes', 'Yes', 'Yes', 'Yes', 'Yes', 'No']}\n",
        "df = pd.DataFrame(data)\n",
        "\n",
        "target_column = 'PlayTennis'\n",
        "features = list(df.columns)\n",
        "features.remove(target_column)\n",
        "tree = build_tree(df, target_column, features)\n",
        "dot = visualize_tree(tree)\n",
        "dot.render('decision_tree')\n",
        "dot\n"
      ],
      "metadata": {
        "colab": {
          "base_uri": "https://localhost:8080/",
          "height": 312
        },
        "id": "WKb-DvmGeIm_",
        "outputId": "ceab1dfc-7c2b-4b25-901f-6f7e3c2464f9"
      },
      "execution_count": 2,
      "outputs": [
        {
          "output_type": "execute_result",
          "data": {
            "image/svg+xml": "<?xml version=\"1.0\" encoding=\"UTF-8\" standalone=\"no\"?>\n<!DOCTYPE svg PUBLIC \"-//W3C//DTD SVG 1.1//EN\"\n \"http://www.w3.org/Graphics/SVG/1.1/DTD/svg11.dtd\">\n<!-- Generated by graphviz version 2.43.0 (0)\n -->\n<!-- Title: %3 Pages: 1 -->\n<svg width=\"301pt\" height=\"218pt\"\n viewBox=\"0.00 0.00 301.00 218.00\" xmlns=\"http://www.w3.org/2000/svg\" xmlns:xlink=\"http://www.w3.org/1999/xlink\">\n<g id=\"graph0\" class=\"graph\" transform=\"scale(1 1) rotate(0) translate(4 214)\">\n<title>%3</title>\n<polygon fill=\"white\" stroke=\"transparent\" points=\"-4,4 -4,-214 297,-214 297,4 -4,4\"/>\n<!-- Root -->\n<g id=\"node1\" class=\"node\">\n<title>Root</title>\n<ellipse fill=\"none\" stroke=\"black\" cx=\"142\" cy=\"-192\" rx=\"39.79\" ry=\"18\"/>\n<text text-anchor=\"middle\" x=\"142\" y=\"-188.3\" font-family=\"Times,serif\" font-size=\"14.00\">Outlook</text>\n</g>\n<!-- Root_Sunny -->\n<g id=\"node2\" class=\"node\">\n<title>Root_Sunny</title>\n<ellipse fill=\"none\" stroke=\"black\" cx=\"52\" cy=\"-105\" rx=\"44.69\" ry=\"18\"/>\n<text text-anchor=\"middle\" x=\"52\" y=\"-101.3\" font-family=\"Times,serif\" font-size=\"14.00\">Humidity</text>\n</g>\n<!-- Root&#45;&gt;Root_Sunny -->\n<g id=\"edge1\" class=\"edge\">\n<title>Root&#45;&gt;Root_Sunny</title>\n<path fill=\"none\" stroke=\"black\" d=\"M124.38,-175.48C117.63,-169.46 109.9,-162.47 103,-156 93.77,-147.34 83.79,-137.63 75.12,-129.1\"/>\n<polygon fill=\"black\" stroke=\"black\" points=\"77.47,-126.49 67.9,-121.95 72.55,-131.47 77.47,-126.49\"/>\n<text text-anchor=\"middle\" x=\"120.5\" y=\"-144.8\" font-family=\"Times,serif\" font-size=\"14.00\">Sunny</text>\n</g>\n<!-- Root_Overcast -->\n<g id=\"node5\" class=\"node\">\n<title>Root_Overcast</title>\n<ellipse fill=\"none\" stroke=\"black\" cx=\"142\" cy=\"-105\" rx=\"27\" ry=\"18\"/>\n<text text-anchor=\"middle\" x=\"142\" y=\"-101.3\" font-family=\"Times,serif\" font-size=\"14.00\">Yes</text>\n</g>\n<!-- Root&#45;&gt;Root_Overcast -->\n<g id=\"edge4\" class=\"edge\">\n<title>Root&#45;&gt;Root_Overcast</title>\n<path fill=\"none\" stroke=\"black\" d=\"M142,-173.8C142,-162.16 142,-146.55 142,-133.24\"/>\n<polygon fill=\"black\" stroke=\"black\" points=\"145.5,-133.18 142,-123.18 138.5,-133.18 145.5,-133.18\"/>\n<text text-anchor=\"middle\" x=\"166.5\" y=\"-144.8\" font-family=\"Times,serif\" font-size=\"14.00\">Overcast</text>\n</g>\n<!-- Root_Rainy -->\n<g id=\"node6\" class=\"node\">\n<title>Root_Rainy</title>\n<ellipse fill=\"none\" stroke=\"black\" cx=\"218\" cy=\"-105\" rx=\"30.59\" ry=\"18\"/>\n<text text-anchor=\"middle\" x=\"218\" y=\"-101.3\" font-family=\"Times,serif\" font-size=\"14.00\">Wind</text>\n</g>\n<!-- Root&#45;&gt;Root_Rainy -->\n<g id=\"edge5\" class=\"edge\">\n<title>Root&#45;&gt;Root_Rainy</title>\n<path fill=\"none\" stroke=\"black\" d=\"M167.13,-177.86C176.44,-172.08 186.53,-164.64 194,-156 199.91,-149.16 204.71,-140.62 208.42,-132.54\"/>\n<polygon fill=\"black\" stroke=\"black\" points=\"211.76,-133.64 212.41,-123.06 205.31,-130.92 211.76,-133.64\"/>\n<text text-anchor=\"middle\" x=\"220.5\" y=\"-144.8\" font-family=\"Times,serif\" font-size=\"14.00\">Rainy</text>\n</g>\n<!-- Root_Sunny_High -->\n<g id=\"node3\" class=\"node\">\n<title>Root_Sunny_High</title>\n<ellipse fill=\"none\" stroke=\"black\" cx=\"27\" cy=\"-18\" rx=\"27\" ry=\"18\"/>\n<text text-anchor=\"middle\" x=\"27\" y=\"-14.3\" font-family=\"Times,serif\" font-size=\"14.00\">No</text>\n</g>\n<!-- Root_Sunny&#45;&gt;Root_Sunny_High -->\n<g id=\"edge2\" class=\"edge\">\n<title>Root_Sunny&#45;&gt;Root_Sunny_High</title>\n<path fill=\"none\" stroke=\"black\" d=\"M46.94,-86.8C43.46,-74.97 38.77,-59.03 34.82,-45.58\"/>\n<polygon fill=\"black\" stroke=\"black\" points=\"38.15,-44.49 31.97,-35.89 31.43,-46.47 38.15,-44.49\"/>\n<text text-anchor=\"middle\" x=\"55\" y=\"-57.8\" font-family=\"Times,serif\" font-size=\"14.00\">High</text>\n</g>\n<!-- Root_Sunny_Normal -->\n<g id=\"node4\" class=\"node\">\n<title>Root_Sunny_Normal</title>\n<ellipse fill=\"none\" stroke=\"black\" cx=\"99\" cy=\"-18\" rx=\"27\" ry=\"18\"/>\n<text text-anchor=\"middle\" x=\"99\" y=\"-14.3\" font-family=\"Times,serif\" font-size=\"14.00\">Yes</text>\n</g>\n<!-- Root_Sunny&#45;&gt;Root_Sunny_Normal -->\n<g id=\"edge3\" class=\"edge\">\n<title>Root_Sunny&#45;&gt;Root_Sunny_Normal</title>\n<path fill=\"none\" stroke=\"black\" d=\"M62.25,-87.39C65.74,-81.61 69.61,-75.06 73,-69 77.41,-61.11 82.03,-52.4 86.13,-44.49\"/>\n<polygon fill=\"black\" stroke=\"black\" points=\"89.37,-45.84 90.82,-35.35 83.14,-42.65 89.37,-45.84\"/>\n<text text-anchor=\"middle\" x=\"103.5\" y=\"-57.8\" font-family=\"Times,serif\" font-size=\"14.00\">Normal</text>\n</g>\n<!-- Root_Rainy_Weak -->\n<g id=\"node7\" class=\"node\">\n<title>Root_Rainy_Weak</title>\n<ellipse fill=\"none\" stroke=\"black\" cx=\"194\" cy=\"-18\" rx=\"27\" ry=\"18\"/>\n<text text-anchor=\"middle\" x=\"194\" y=\"-14.3\" font-family=\"Times,serif\" font-size=\"14.00\">Yes</text>\n</g>\n<!-- Root_Rainy&#45;&gt;Root_Rainy_Weak -->\n<g id=\"edge6\" class=\"edge\">\n<title>Root_Rainy&#45;&gt;Root_Rainy_Weak</title>\n<path fill=\"none\" stroke=\"black\" d=\"M213.26,-87.21C209.91,-75.33 205.34,-59.17 201.5,-45.56\"/>\n<polygon fill=\"black\" stroke=\"black\" points=\"204.82,-44.43 198.73,-35.76 198.08,-46.33 204.82,-44.43\"/>\n<text text-anchor=\"middle\" x=\"223.5\" y=\"-57.8\" font-family=\"Times,serif\" font-size=\"14.00\">Weak</text>\n</g>\n<!-- Root_Rainy_Strong -->\n<g id=\"node8\" class=\"node\">\n<title>Root_Rainy_Strong</title>\n<ellipse fill=\"none\" stroke=\"black\" cx=\"266\" cy=\"-18\" rx=\"27\" ry=\"18\"/>\n<text text-anchor=\"middle\" x=\"266\" y=\"-14.3\" font-family=\"Times,serif\" font-size=\"14.00\">No</text>\n</g>\n<!-- Root_Rainy&#45;&gt;Root_Rainy_Strong -->\n<g id=\"edge7\" class=\"edge\">\n<title>Root_Rainy&#45;&gt;Root_Rainy_Strong</title>\n<path fill=\"none\" stroke=\"black\" d=\"M230.11,-88.39C234.43,-82.48 239.18,-75.59 243,-69 247.43,-61.36 251.66,-52.72 255.26,-44.8\"/>\n<polygon fill=\"black\" stroke=\"black\" points=\"258.48,-46.17 259.3,-35.61 252.07,-43.35 258.48,-46.17\"/>\n<text text-anchor=\"middle\" x=\"268.5\" y=\"-57.8\" font-family=\"Times,serif\" font-size=\"14.00\">Strong</text>\n</g>\n</g>\n</svg>\n",
            "text/plain": [
              "<graphviz.graphs.Digraph at 0x7ea4c51dac10>"
            ]
          },
          "metadata": {},
          "execution_count": 2
        }
      ]
    }
  ]
}